{
 "cells": [
  {
   "cell_type": "code",
   "execution_count": 1,
   "id": "eefc9cc3-662b-4682-8bc7-19ece1e9d3e5",
   "metadata": {},
   "outputs": [],
   "source": [
    "import torch\n",
    "import numpy as np\n",
    "from transformers import AutoProcessor, XCLIPVisionModel\n",
    "from huggingface_hub import hf_hub_download\n",
    "from transformers import AutoImageProcessor\n",
    "import matplotlib.pyplot as plt\n",
    "from datasets import load_dataset\n",
    "from tqdm import tqdm\n",
    "from torchvision.transforms import RandomResizedCrop,  Compose, Normalize, ToTensor, Resize"
   ]
  },
  {
   "cell_type": "code",
   "execution_count": 6,
   "id": "2b69d0e4-0c59-4fc8-aa78-7ecf9b78e175",
   "metadata": {},
   "outputs": [
    {
     "name": "stderr",
     "output_type": "stream",
     "text": [
      "Downloading data from 'https://github.com/tornikeo/imigue-classification/releases/download/data/training.zip' to file '/root/.cache/pooch/5684bdadd35ab9c8ae3b5ef0aa4f15d0-training.zip'.\n",
      "SHA256 hash of downloaded file: 32f3cf0ad0f91fd03f7eaead1144919f19038b905f820d9a18a69e4ccbc19306\n",
      "Use this value as the 'known_hash' argument of 'pooch.retrieve' to ensure that the file hasn't changed if it is downloaded again in the future.\n"
     ]
    }
   ],
   "source": [
    "# We hosted dataset zipfile under github release to access it easily with code\n",
    "import pooch\n",
    "zipfile_name = pooch.retrieve(\n",
    "    url=\"https://github.com/tornikeo/imigue-classification/releases/download/data/training.zip\",\n",
    "    known_hash=None,\n",
    ")"
   ]
  },
  {
   "cell_type": "code",
   "execution_count": 7,
   "id": "19debc3e",
   "metadata": {},
   "outputs": [
    {
     "name": "stdout",
     "output_type": "stream",
     "text": [
      "Zip file extracted successfully.\n"
     ]
    }
   ],
   "source": [
    "import os\n",
    "import zipfile\n",
    "import pooch\n",
    "from pathlib import Path\n",
    "\n",
    "# Create the directory for extracted files\n",
    "raw_data_dir = Path(\"data/raw\")\n",
    "raw_data_dir.mkdir(exist_ok=True)\n",
    "\n",
    "# Extract the contents of the zip file into the target directory\n",
    "with zipfile.ZipFile(zipfile_name, 'r') as zip_ref:\n",
    "    zip_ref.extractall(raw_data_dir)\n",
    "\n",
    "print(\"Zip file extracted successfully.\")"
   ]
  },
  {
   "cell_type": "markdown",
   "id": "0c662c83",
   "metadata": {},
   "source": [
    "We rename directories from 1-32, to 0-31 to be consistent."
   ]
  },
  {
   "cell_type": "code",
   "execution_count": 18,
   "id": "0cc590a1",
   "metadata": {},
   "outputs": [
    {
     "name": "stdout",
     "output_type": "stream",
     "text": [
      "data/raw/training/1 data/raw/training/0\n",
      "data/raw/training/2 data/raw/training/1\n",
      "data/raw/training/3 data/raw/training/2\n",
      "data/raw/training/4 data/raw/training/3\n",
      "data/raw/training/5 data/raw/training/4\n",
      "data/raw/training/6 data/raw/training/5\n",
      "data/raw/training/7 data/raw/training/6\n",
      "data/raw/training/8 data/raw/training/7\n",
      "data/raw/training/9 data/raw/training/8\n",
      "data/raw/training/10 data/raw/training/9\n",
      "data/raw/training/11 data/raw/training/10\n",
      "data/raw/training/12 data/raw/training/11\n",
      "data/raw/training/13 data/raw/training/12\n",
      "data/raw/training/14 data/raw/training/13\n",
      "data/raw/training/15 data/raw/training/14\n",
      "data/raw/training/16 data/raw/training/15\n",
      "data/raw/training/17 data/raw/training/16\n",
      "data/raw/training/18 data/raw/training/17\n",
      "data/raw/training/19 data/raw/training/18\n",
      "data/raw/training/20 data/raw/training/19\n",
      "data/raw/training/21 data/raw/training/20\n",
      "data/raw/training/22 data/raw/training/21\n",
      "data/raw/training/23 data/raw/training/22\n",
      "data/raw/training/24 data/raw/training/23\n",
      "data/raw/training/25 data/raw/training/24\n",
      "data/raw/training/26 data/raw/training/25\n",
      "data/raw/training/27 data/raw/training/26\n",
      "data/raw/training/28 data/raw/training/27\n",
      "data/raw/training/29 data/raw/training/28\n",
      "data/raw/training/30 data/raw/training/29\n",
      "data/raw/training/31 data/raw/training/30\n",
      "data/raw/training/32 data/raw/training/31\n",
      "Directories renamed successfully.\n"
     ]
    }
   ],
   "source": [
    "# Iterate over each directory inside raw_data_dir\n",
    "\n",
    "for directory in (raw_data_dir / 'training').iterdir():\n",
    "    if directory.is_dir():\n",
    "        # Get the current directory name\n",
    "        current_name = directory.name\n",
    "        \n",
    "        # Extract the integer part of the directory name\n",
    "        try:\n",
    "            directory_number = int(current_name)\n",
    "        except ValueError:\n",
    "            continue  # Skip if the directory name is not a valid integer\n",
    "        \n",
    "        # Rename the directory to x-1 format\n",
    "        new_name = str(directory_number - 1)\n",
    "        new_directory = (raw_data_dir / 'training') / new_name\n",
    "        directory.rename(new_directory)\n",
    "        print(directory, '->', new_directory)\n",
    "        \n",
    "print(\"Directories renamed successfully.\")"
   ]
  },
  {
   "cell_type": "code",
   "execution_count": 1,
   "id": "2318d51c",
   "metadata": {},
   "outputs": [
    {
     "data": {
      "text/plain": [
       "(PosixPath('data/raw/training/0/10116.0.jpg'),\n",
       " PosixPath('data/raw/training/0/10116.1.jpg'),\n",
       " PosixPath('data/raw/training/0/10116.10.jpg'),\n",
       " PosixPath('data/raw/training/0/10116.11.jpg'),\n",
       " PosixPath('data/raw/training/0/10116.12.jpg'),\n",
       " PosixPath('data/raw/training/0/10116.13.jpg'),\n",
       " PosixPath('data/raw/training/0/10116.2.jpg'),\n",
       " PosixPath('data/raw/training/0/10116.3.jpg'),\n",
       " PosixPath('data/raw/training/0/10116.4.jpg'),\n",
       " PosixPath('data/raw/training/0/10116.5.jpg'))"
      ]
     },
     "execution_count": 1,
     "metadata": {},
     "output_type": "execute_result"
    }
   ],
   "source": [
    "from pathlib import Path\n",
    "import pandas as pd\n",
    "\n",
    "processed_data_dir = Path('data/processed')\n",
    "processed_data_dir.mkdir(exist_ok=True)\n",
    "raw_data_dir = Path('data/raw/training')\n",
    "images = tuple(sorted(Path(raw_data_dir).glob('**/*.jpg')))\n",
    "images[:10]"
   ]
  },
  {
   "cell_type": "code",
   "execution_count": 31,
   "id": "467a61df-c2c2-4c2c-ba01-65ec6b51dca9",
   "metadata": {},
   "outputs": [
    {
     "name": "stderr",
     "output_type": "stream",
     "text": [
      "  0%|          | 0/60514 [00:00<?, ?it/s]"
     ]
    },
    {
     "name": "stderr",
     "output_type": "stream",
     "text": [
      "100%|██████████| 60514/60514 [00:00<00:00, 171365.30it/s]\n"
     ]
    },
    {
     "data": {
      "text/html": [
       "<div>\n",
       "<style scoped>\n",
       "    .dataframe tbody tr th:only-of-type {\n",
       "        vertical-align: middle;\n",
       "    }\n",
       "\n",
       "    .dataframe tbody tr th {\n",
       "        vertical-align: top;\n",
       "    }\n",
       "\n",
       "    .dataframe thead th {\n",
       "        text-align: right;\n",
       "    }\n",
       "</style>\n",
       "<table border=\"1\" class=\"dataframe\">\n",
       "  <thead>\n",
       "    <tr style=\"text-align: right;\">\n",
       "      <th></th>\n",
       "      <th>file_name</th>\n",
       "      <th>label</th>\n",
       "      <th>video</th>\n",
       "      <th>frame</th>\n",
       "      <th>id</th>\n",
       "      <th>id2label</th>\n",
       "      <th>id2category</th>\n",
       "    </tr>\n",
       "  </thead>\n",
       "  <tbody>\n",
       "    <tr>\n",
       "      <th>0</th>\n",
       "      <td>0/10116.0.jpg</td>\n",
       "      <td>0</td>\n",
       "      <td>10116</td>\n",
       "      <td>0</td>\n",
       "      <td>0</td>\n",
       "      <td>Turtle neck</td>\n",
       "      <td>Head</td>\n",
       "    </tr>\n",
       "    <tr>\n",
       "      <th>1</th>\n",
       "      <td>0/10116.1.jpg</td>\n",
       "      <td>0</td>\n",
       "      <td>10116</td>\n",
       "      <td>1</td>\n",
       "      <td>0</td>\n",
       "      <td>Turtle neck</td>\n",
       "      <td>Head</td>\n",
       "    </tr>\n",
       "    <tr>\n",
       "      <th>2</th>\n",
       "      <td>0/10116.10.jpg</td>\n",
       "      <td>0</td>\n",
       "      <td>10116</td>\n",
       "      <td>10</td>\n",
       "      <td>0</td>\n",
       "      <td>Turtle neck</td>\n",
       "      <td>Head</td>\n",
       "    </tr>\n",
       "    <tr>\n",
       "      <th>3</th>\n",
       "      <td>0/10116.11.jpg</td>\n",
       "      <td>0</td>\n",
       "      <td>10116</td>\n",
       "      <td>11</td>\n",
       "      <td>0</td>\n",
       "      <td>Turtle neck</td>\n",
       "      <td>Head</td>\n",
       "    </tr>\n",
       "    <tr>\n",
       "      <th>4</th>\n",
       "      <td>0/10116.12.jpg</td>\n",
       "      <td>0</td>\n",
       "      <td>10116</td>\n",
       "      <td>12</td>\n",
       "      <td>0</td>\n",
       "      <td>Turtle neck</td>\n",
       "      <td>Head</td>\n",
       "    </tr>\n",
       "    <tr>\n",
       "      <th>...</th>\n",
       "      <td>...</td>\n",
       "      <td>...</td>\n",
       "      <td>...</td>\n",
       "      <td>...</td>\n",
       "      <td>...</td>\n",
       "      <td>...</td>\n",
       "      <td>...</td>\n",
       "    </tr>\n",
       "    <tr>\n",
       "      <th>60509</th>\n",
       "      <td>9/2517.3.jpg</td>\n",
       "      <td>9</td>\n",
       "      <td>2517</td>\n",
       "      <td>3</td>\n",
       "      <td>9</td>\n",
       "      <td>Biting nails</td>\n",
       "      <td>Head-hand</td>\n",
       "    </tr>\n",
       "    <tr>\n",
       "      <th>60510</th>\n",
       "      <td>9/2517.4.jpg</td>\n",
       "      <td>9</td>\n",
       "      <td>2517</td>\n",
       "      <td>4</td>\n",
       "      <td>9</td>\n",
       "      <td>Biting nails</td>\n",
       "      <td>Head-hand</td>\n",
       "    </tr>\n",
       "    <tr>\n",
       "      <th>60511</th>\n",
       "      <td>9/2517.5.jpg</td>\n",
       "      <td>9</td>\n",
       "      <td>2517</td>\n",
       "      <td>5</td>\n",
       "      <td>9</td>\n",
       "      <td>Biting nails</td>\n",
       "      <td>Head-hand</td>\n",
       "    </tr>\n",
       "    <tr>\n",
       "      <th>60512</th>\n",
       "      <td>9/2517.6.jpg</td>\n",
       "      <td>9</td>\n",
       "      <td>2517</td>\n",
       "      <td>6</td>\n",
       "      <td>9</td>\n",
       "      <td>Biting nails</td>\n",
       "      <td>Head-hand</td>\n",
       "    </tr>\n",
       "    <tr>\n",
       "      <th>60513</th>\n",
       "      <td>9/2517.7.jpg</td>\n",
       "      <td>9</td>\n",
       "      <td>2517</td>\n",
       "      <td>7</td>\n",
       "      <td>9</td>\n",
       "      <td>Biting nails</td>\n",
       "      <td>Head-hand</td>\n",
       "    </tr>\n",
       "  </tbody>\n",
       "</table>\n",
       "<p>60514 rows × 7 columns</p>\n",
       "</div>"
      ],
      "text/plain": [
       "            file_name  label  video  frame  id      id2label id2category\n",
       "0       0/10116.0.jpg      0  10116      0   0   Turtle neck        Head\n",
       "1       0/10116.1.jpg      0  10116      1   0   Turtle neck        Head\n",
       "2      0/10116.10.jpg      0  10116     10   0   Turtle neck        Head\n",
       "3      0/10116.11.jpg      0  10116     11   0   Turtle neck        Head\n",
       "4      0/10116.12.jpg      0  10116     12   0   Turtle neck        Head\n",
       "...               ...    ...    ...    ...  ..           ...         ...\n",
       "60509    9/2517.3.jpg      9   2517      3   9  Biting nails   Head-hand\n",
       "60510    9/2517.4.jpg      9   2517      4   9  Biting nails   Head-hand\n",
       "60511    9/2517.5.jpg      9   2517      5   9  Biting nails   Head-hand\n",
       "60512    9/2517.6.jpg      9   2517      6   9  Biting nails   Head-hand\n",
       "60513    9/2517.7.jpg      9   2517      7   9  Biting nails   Head-hand\n",
       "\n",
       "[60514 rows x 7 columns]"
      ]
     },
     "execution_count": 31,
     "metadata": {},
     "output_type": "execute_result"
    }
   ],
   "source": [
    "data_dir = Path('data')\n",
    "\n",
    "def parse_meta(image: Path) -> tuple:\n",
    "    video_id, frame_id = image.stem.split('.')\n",
    "    class_id = image.parent.name\n",
    "    rel_path = Path(*image.parts[3:])\n",
    "    return str(rel_path), int(class_id), int(video_id), int(frame_id)\n",
    "    \n",
    "meta = [parse_meta(image) for image in tqdm(images)]\n",
    "meta = pd.DataFrame(meta, columns=['file_name', 'label', 'video', 'frame'])\n",
    "\n",
    "df = pd.read_csv(data_dir/'id2label.csv')\n",
    "full_meta = pd.merge(meta, df, left_on='label', right_on='id')\n",
    "# full_meta.to_csv(processed_data_dir / 'metadata.csv', index=None)\n",
    "\n",
    "full_meta"
   ]
  },
  {
   "cell_type": "markdown",
   "id": "862fcf2c",
   "metadata": {},
   "source": [
    "We make a new dataset structure with proper labels."
   ]
  },
  {
   "cell_type": "code",
   "execution_count": 34,
   "id": "d78af88e",
   "metadata": {},
   "outputs": [
    {
     "name": "stderr",
     "output_type": "stream",
     "text": [
      "60514it [00:10, 5804.04it/s]"
     ]
    },
    {
     "name": "stdout",
     "output_type": "stream",
     "text": [
      "Files copied successfully.\n"
     ]
    },
    {
     "name": "stderr",
     "output_type": "stream",
     "text": [
      "\n"
     ]
    }
   ],
   "source": [
    "import os\n",
    "import shutil\n",
    "\n",
    "# Function to normalize directory name\n",
    "def normalize_directory_name(name):\n",
    "    return name.lower().replace(' ', '_')\n",
    "\n",
    "# Iterate over each row in full_meta\n",
    "for index, row in tqdm(full_meta.iterrows()):\n",
    "    # Get the file name and label\n",
    "    file_name = row['file_name']\n",
    "    label = row['id2label']\n",
    "    \n",
    "    # Normalize the directory name\n",
    "    directory_name = normalize_directory_name(label)\n",
    "    \n",
    "    # Create the target directory if it doesn't exist\n",
    "    target_directory = processed_data_dir / directory_name\n",
    "    target_directory.mkdir(parents=True, exist_ok=True)\n",
    "    \n",
    "    # Copy the file to the target directory\n",
    "    shutil.copy(data_dir / 'raw/training' / file_name, target_directory)\n",
    "\n",
    "print(\"Files copied successfully.\")"
   ]
  },
  {
   "cell_type": "code",
   "execution_count": 2,
   "id": "12cd16c4",
   "metadata": {},
   "outputs": [
    {
     "data": {
      "application/vnd.jupyter.widget-view+json": {
       "model_id": "86fd313313814e629911b9920d40c802",
       "version_major": 2,
       "version_minor": 0
      },
      "text/plain": [
       "Resolving data files:   0%|          | 0/60514 [00:00<?, ?it/s]"
      ]
     },
     "metadata": {},
     "output_type": "display_data"
    },
    {
     "data": {
      "application/vnd.jupyter.widget-view+json": {
       "model_id": "ea627799c92842f9a3df1e8e8635ea0a",
       "version_major": 2,
       "version_minor": 0
      },
      "text/plain": [
       "Loading dataset shards:   0%|          | 0/32 [00:00<?, ?it/s]"
      ]
     },
     "metadata": {},
     "output_type": "display_data"
    }
   ],
   "source": [
    "from datasets import load_dataset\n",
    "\n",
    "data = load_dataset(str(processed_data_dir),  num_proc=32)"
   ]
  },
  {
   "cell_type": "code",
   "execution_count": 4,
   "id": "c338dff1",
   "metadata": {},
   "outputs": [
    {
     "data": {
      "text/plain": [
       "DatasetDict({\n",
       "    train: Dataset({\n",
       "        features: ['image', 'label'],\n",
       "        num_rows: 60514\n",
       "    })\n",
       "})"
      ]
     },
     "execution_count": 4,
     "metadata": {},
     "output_type": "execute_result"
    }
   ],
   "source": [
    "data"
   ]
  },
  {
   "cell_type": "markdown",
   "id": "4d090eff-74d3-45e3-99f2-94e2f49a7570",
   "metadata": {},
   "source": [
    "# Visuals"
   ]
  },
  {
   "cell_type": "code",
   "execution_count": 5,
   "id": "535d2a1f-3d84-443f-a3a2-f982718df7e8",
   "metadata": {},
   "outputs": [
    {
     "ename": "NameError",
     "evalue": "name 'full_meta' is not defined",
     "output_type": "error",
     "traceback": [
      "\u001b[0;31m---------------------------------------------------------------------------\u001b[0m",
      "\u001b[0;31mNameError\u001b[0m                                 Traceback (most recent call last)",
      "Cell \u001b[0;32mIn[5], line 4\u001b[0m\n\u001b[1;32m      1\u001b[0m \u001b[38;5;28;01mimport\u001b[39;00m \u001b[38;5;21;01mseaborn\u001b[39;00m \u001b[38;5;28;01mas\u001b[39;00m \u001b[38;5;21;01msns\u001b[39;00m\n\u001b[1;32m      2\u001b[0m \u001b[38;5;28;01mimport\u001b[39;00m \u001b[38;5;21;01mmatplotlib\u001b[39;00m\u001b[38;5;21;01m.\u001b[39;00m\u001b[38;5;21;01mpyplot\u001b[39;00m \u001b[38;5;28;01mas\u001b[39;00m \u001b[38;5;21;01mplt\u001b[39;00m\n\u001b[0;32m----> 4\u001b[0m \u001b[43mfull_meta\u001b[49m\u001b[38;5;241m.\u001b[39mid2label\u001b[38;5;241m.\u001b[39mvalue_counts()\u001b[38;5;241m.\u001b[39mplot\u001b[38;5;241m.\u001b[39mbar()\n\u001b[1;32m      5\u001b[0m plt\u001b[38;5;241m.\u001b[39mylabel(\u001b[38;5;124m'\u001b[39m\u001b[38;5;124mNumber of samples\u001b[39m\u001b[38;5;124m'\u001b[39m)\n\u001b[1;32m      6\u001b[0m plt\u001b[38;5;241m.\u001b[39myscale(\u001b[38;5;124m'\u001b[39m\u001b[38;5;124mlog\u001b[39m\u001b[38;5;124m'\u001b[39m)\n",
      "\u001b[0;31mNameError\u001b[0m: name 'full_meta' is not defined"
     ]
    }
   ],
   "source": [
    "import seaborn as sns\n",
    "import matplotlib.pyplot as plt\n",
    "\n",
    "full_meta.id2label.value_counts().plot.bar()\n",
    "plt.ylabel('Number of samples')\n",
    "plt.yscale('log')\n",
    "plt.show()"
   ]
  },
  {
   "cell_type": "code",
   "execution_count": 6,
   "id": "77e13ea1-d936-420a-af0a-4d4392bec214",
   "metadata": {},
   "outputs": [
    {
     "ename": "NameError",
     "evalue": "name 'full_meta' is not defined",
     "output_type": "error",
     "traceback": [
      "\u001b[0;31m---------------------------------------------------------------------------\u001b[0m",
      "\u001b[0;31mNameError\u001b[0m                                 Traceback (most recent call last)",
      "Cell \u001b[0;32mIn[6], line 1\u001b[0m\n\u001b[0;32m----> 1\u001b[0m \u001b[43mfull_meta\u001b[49m\u001b[38;5;241m.\u001b[39mgroupby(\u001b[38;5;124m'\u001b[39m\u001b[38;5;124mid2label\u001b[39m\u001b[38;5;124m'\u001b[39m)\u001b[38;5;241m.\u001b[39msize()\u001b[38;5;241m.\u001b[39mplot\u001b[38;5;241m.\u001b[39mbar()\n\u001b[1;32m      2\u001b[0m plt\u001b[38;5;241m.\u001b[39mylabel(\u001b[38;5;124m'\u001b[39m\u001b[38;5;124mNumber of samples\u001b[39m\u001b[38;5;124m'\u001b[39m)\n\u001b[1;32m      3\u001b[0m plt\u001b[38;5;241m.\u001b[39myscale(\u001b[38;5;124m'\u001b[39m\u001b[38;5;124mlog\u001b[39m\u001b[38;5;124m'\u001b[39m)\n",
      "\u001b[0;31mNameError\u001b[0m: name 'full_meta' is not defined"
     ]
    }
   ],
   "source": [
    "full_meta.groupby('id2label').size().plot.bar()\n",
    "plt.ylabel('Number of samples')\n",
    "plt.yscale('log')\n",
    "plt.show()"
   ]
  },
  {
   "cell_type": "code",
   "execution_count": 7,
   "id": "efc8dc30-d165-494b-8d88-80d5d76aaf26",
   "metadata": {},
   "outputs": [
    {
     "ename": "NameError",
     "evalue": "name 'full_meta' is not defined",
     "output_type": "error",
     "traceback": [
      "\u001b[0;31m---------------------------------------------------------------------------\u001b[0m",
      "\u001b[0;31mNameError\u001b[0m                                 Traceback (most recent call last)",
      "Cell \u001b[0;32mIn[7], line 1\u001b[0m\n\u001b[0;32m----> 1\u001b[0m \u001b[43mfull_meta\u001b[49m\u001b[38;5;241m.\u001b[39mgroupby(\u001b[38;5;124m'\u001b[39m\u001b[38;5;124mid2label\u001b[39m\u001b[38;5;124m'\u001b[39m)\u001b[38;5;241m.\u001b[39mvideo\u001b[38;5;241m.\u001b[39mnunique()\u001b[38;5;241m.\u001b[39mplot\u001b[38;5;241m.\u001b[39mbar()\n\u001b[1;32m      2\u001b[0m plt\u001b[38;5;241m.\u001b[39mylabel(\u001b[38;5;124m'\u001b[39m\u001b[38;5;124mNumber of VIDEOS\u001b[39m\u001b[38;5;124m'\u001b[39m)\n\u001b[1;32m      3\u001b[0m plt\u001b[38;5;241m.\u001b[39myscale(\u001b[38;5;124m'\u001b[39m\u001b[38;5;124mlog\u001b[39m\u001b[38;5;124m'\u001b[39m)\n",
      "\u001b[0;31mNameError\u001b[0m: name 'full_meta' is not defined"
     ]
    }
   ],
   "source": [
    "full_meta.groupby('id2label').video.nunique().plot.bar()\n",
    "plt.ylabel('Number of VIDEOS')\n",
    "plt.yscale('log')\n",
    "plt.show()"
   ]
  },
  {
   "cell_type": "code",
   "execution_count": 16,
   "id": "11629c75-a53a-4e4f-9da7-572c13804ed2",
   "metadata": {},
   "outputs": [
    {
     "data": {
      "text/plain": [
       "False"
      ]
     },
     "execution_count": 16,
     "metadata": {},
     "output_type": "execute_result"
    }
   ],
   "source": [
    "## Does any one FRAME have more than one label\n",
    "full_meta.groupby('file_name').label.nunique().max() > 1"
   ]
  },
  {
   "cell_type": "code",
   "execution_count": 17,
   "id": "858670bc-98f1-4a4f-b386-d76ac2f13716",
   "metadata": {},
   "outputs": [
    {
     "data": {
      "text/plain": [
       "True"
      ]
     },
     "execution_count": 17,
     "metadata": {},
     "output_type": "execute_result"
    }
   ],
   "source": [
    "## Does any one VIDEO have more than one label\n",
    "full_meta.groupby('video').label.nunique().max() > 1"
   ]
  },
  {
   "cell_type": "code",
   "execution_count": 18,
   "id": "1188f8ce-ae94-4ade-8734-9af94107ff18",
   "metadata": {},
   "outputs": [
    {
     "data": {
      "text/plain": [
       "1"
      ]
     },
     "execution_count": 18,
     "metadata": {},
     "output_type": "execute_result"
    }
   ],
   "source": [
    "# How many such videos?\n",
    "(full_meta.groupby('video').label.nunique() > 1).sum()"
   ]
  },
  {
   "cell_type": "code",
   "execution_count": 34,
   "id": "f741b35b-f071-44d1-bda9-32b4e5ddd751",
   "metadata": {},
   "outputs": [
    {
     "data": {
      "text/plain": [
       "Text(0.5, 0, 'Index of video')"
      ]
     },
     "execution_count": 34,
     "metadata": {},
     "output_type": "execute_result"
    },
    {
     "data": {
      "image/png": "[encoded data removed]",
      "text/plain": [
       "<Figure size 640x480 with 1 Axes>"
      ]
     },
     "metadata": {},
     "output_type": "display_data"
    }
   ],
   "source": [
    "# How many frames per video? Quantiles\n",
    "full_meta.groupby('video').frame.nunique().plot.hist(bins=120)\n",
    "plt.ylabel(\"Num frames in video\")\n",
    "plt.yscale('log')\n",
    "plt.xlabel(\"Index of video\")"
   ]
  },
  {
   "cell_type": "code",
   "execution_count": 41,
   "id": "774f1cf0-6f86-4ddb-8d88-795b0bd31dd0",
   "metadata": {},
   "outputs": [
    {
     "data": {
      "text/plain": [
       "4717"
      ]
     },
     "execution_count": 41,
     "metadata": {},
     "output_type": "execute_result"
    }
   ],
   "source": [
    "# Do we like... have a lot of gaps in video ids? What's number of video ids that we skip in dataset?\n",
    "((full_meta.video.max() - full_meta.video.min()) - full_meta.video.nunique())"
   ]
  },
  {
   "cell_type": "markdown",
   "id": "bbfea36a-3551-4765-9e7e-5a3165477c9f",
   "metadata": {},
   "source": [
    "We have to split by video! This means, every video must either be fully in test, or in train. No in-betweens.  \n",
    "This is because every video is usually only one class. As a model, if you remember video, you can remember label too. That's not good."
   ]
  },
  {
   "cell_type": "code",
   "execution_count": 42,
   "id": "1b83042a-c65f-4990-afd8-48c670f25db4",
   "metadata": {},
   "outputs": [
    {
     "name": "stdout",
     "output_type": "stream",
     "text": [
      "=== How many videos do we have?\n"
     ]
    },
    {
     "data": {
      "text/plain": [
       "12910"
      ]
     },
     "metadata": {},
     "output_type": "display_data"
    },
    {
     "name": "stdout",
     "output_type": "stream",
     "text": [
      "=== Frames per video\n"
     ]
    },
    {
     "data": {
      "text/plain": [
       "count    12910.000000\n",
       "mean         4.687374\n",
       "std          5.550717\n",
       "min          1.000000\n",
       "25%          2.000000\n",
       "50%          3.000000\n",
       "75%          5.000000\n",
       "max        276.000000\n",
       "Name: frame, dtype: float64"
      ]
     },
     "metadata": {},
     "output_type": "display_data"
    },
    {
     "name": "stdout",
     "output_type": "stream",
     "text": [
      "=== Frames per video\n",
      "=== Can we have one video in multiple classes?\n"
     ]
    },
    {
     "data": {
      "text/plain": [
       "count    12910.000000\n",
       "mean         1.000077\n",
       "std          0.008801\n",
       "min          1.000000\n",
       "25%          1.000000\n",
       "50%          1.000000\n",
       "75%          1.000000\n",
       "max          2.000000\n",
       "Name: label, dtype: float64"
      ]
     },
     "metadata": {},
     "output_type": "display_data"
    },
    {
     "name": "stdout",
     "output_type": "stream",
     "text": [
      "Most yes, but some videos have two labels\n"
     ]
    }
   ],
   "source": [
    "from IPython.display import display\n",
    "\n",
    "# How many videos do we have?\n",
    "print(\"=== How many videos do we have?\")\n",
    "\n",
    "display(meta.video.nunique())\n",
    "# What's the quantiles for num frames per video?\n",
    "print(\"=== Frames per video\")\n",
    "display(meta.groupby('video').frame.nunique().describe())\n",
    "\n",
    "print(\"=== Frames per video\")\n",
    "# Can we have one video in multiple classes? Yes right?\n",
    "print(\"=== Can we have one video in multiple classes?\")\n",
    "display(meta.groupby('video').label.nunique().describe())\n",
    "print(\"Most yes, but some videos have two labels\")"
   ]
  },
  {
   "cell_type": "code",
   "execution_count": 45,
   "id": "3c5b7a8c-b30a-4bc6-8f11-817fba37b492",
   "metadata": {},
   "outputs": [
    {
     "name": "stdout",
     "output_type": "stream",
     "text": [
      "\u001b[33mWARNING: Running pip as the 'root' user can result in broken permissions and conflicting behaviour with the system package manager. It is recommended to use a virtual environment instead: https://pip.pypa.io/warnings/venv\u001b[0m\u001b[33m\n",
      "\u001b[0m|    | file_name      |   label |   video |   frame | id2label    | id2category   |\n",
      "|---:|:---------------|--------:|--------:|--------:|:------------|:--------------|\n",
      "|  0 | 1/10116.0.jpg  |       1 |   10116 |       0 | Turtle neck | Head          |\n",
      "|  1 | 1/10116.1.jpg  |       1 |   10116 |       1 | Turtle neck | Head          |\n",
      "|  2 | 1/10116.10.jpg |       1 |   10116 |      10 | Turtle neck | Head          |\n",
      "|  3 | 1/10116.11.jpg |       1 |   10116 |      11 | Turtle neck | Head          |\n",
      "|  4 | 1/10116.12.jpg |       1 |   10116 |      12 | Turtle neck | Head          |\n"
     ]
    }
   ],
   "source": [
    "print(full_meta.head().to_markdown())"
   ]
  },
  {
   "cell_type": "markdown",
   "id": "b9f0baea-005b-4619-aa00-b54cc9bd68f9",
   "metadata": {},
   "source": [
    "random train_test_split, so that every video is either in train or test exclusively to prevent data leak. Also, the labels are unbalanced, some classes (like 32) lave ~10^4 entries and smallest class has only 10 entries (also, the same class has only one video in it too, this is label 19).\n",
    "\n",
    "All videos must be exclusively in train or test. Except the label 19, in this case it should be split in half and first video half should go into train and second into test.\n"
   ]
  },
  {
   "cell_type": "code",
   "execution_count": 7,
   "id": "5e92a70f-3856-461e-96c2-a8cf0ae79f1f",
   "metadata": {},
   "outputs": [
    {
     "data": {
      "text/html": [
       "<div>\n",
       "<style scoped>\n",
       "    .dataframe tbody tr th:only-of-type {\n",
       "        vertical-align: middle;\n",
       "    }\n",
       "\n",
       "    .dataframe tbody tr th {\n",
       "        vertical-align: top;\n",
       "    }\n",
       "\n",
       "    .dataframe thead th {\n",
       "        text-align: right;\n",
       "    }\n",
       "</style>\n",
       "<table border=\"1\" class=\"dataframe\">\n",
       "  <thead>\n",
       "    <tr style=\"text-align: right;\">\n",
       "      <th></th>\n",
       "      <th>file_name</th>\n",
       "      <th>label</th>\n",
       "      <th>video</th>\n",
       "      <th>frame</th>\n",
       "      <th>id2label</th>\n",
       "      <th>id2category</th>\n",
       "    </tr>\n",
       "  </thead>\n",
       "  <tbody>\n",
       "    <tr>\n",
       "      <th>0</th>\n",
       "      <td>1/10116.0.jpg</td>\n",
       "      <td>1</td>\n",
       "      <td>10116</td>\n",
       "      <td>0</td>\n",
       "      <td>Turtle neck</td>\n",
       "      <td>Head</td>\n",
       "    </tr>\n",
       "    <tr>\n",
       "      <th>1</th>\n",
       "      <td>1/10116.1.jpg</td>\n",
       "      <td>1</td>\n",
       "      <td>10116</td>\n",
       "      <td>1</td>\n",
       "      <td>Turtle neck</td>\n",
       "      <td>Head</td>\n",
       "    </tr>\n",
       "    <tr>\n",
       "      <th>2</th>\n",
       "      <td>1/10116.10.jpg</td>\n",
       "      <td>1</td>\n",
       "      <td>10116</td>\n",
       "      <td>10</td>\n",
       "      <td>Turtle neck</td>\n",
       "      <td>Head</td>\n",
       "    </tr>\n",
       "    <tr>\n",
       "      <th>3</th>\n",
       "      <td>1/10116.11.jpg</td>\n",
       "      <td>1</td>\n",
       "      <td>10116</td>\n",
       "      <td>11</td>\n",
       "      <td>Turtle neck</td>\n",
       "      <td>Head</td>\n",
       "    </tr>\n",
       "    <tr>\n",
       "      <th>4</th>\n",
       "      <td>1/10116.12.jpg</td>\n",
       "      <td>1</td>\n",
       "      <td>10116</td>\n",
       "      <td>12</td>\n",
       "      <td>Turtle neck</td>\n",
       "      <td>Head</td>\n",
       "    </tr>\n",
       "    <tr>\n",
       "      <th>...</th>\n",
       "      <td>...</td>\n",
       "      <td>...</td>\n",
       "      <td>...</td>\n",
       "      <td>...</td>\n",
       "      <td>...</td>\n",
       "      <td>...</td>\n",
       "    </tr>\n",
       "    <tr>\n",
       "      <th>60509</th>\n",
       "      <td>9/8751.1.jpg</td>\n",
       "      <td>9</td>\n",
       "      <td>8751</td>\n",
       "      <td>1</td>\n",
       "      <td>Touching ears</td>\n",
       "      <td>Head-hand</td>\n",
       "    </tr>\n",
       "    <tr>\n",
       "      <th>60510</th>\n",
       "      <td>9/8751.2.jpg</td>\n",
       "      <td>9</td>\n",
       "      <td>8751</td>\n",
       "      <td>2</td>\n",
       "      <td>Touching ears</td>\n",
       "      <td>Head-hand</td>\n",
       "    </tr>\n",
       "    <tr>\n",
       "      <th>60511</th>\n",
       "      <td>9/970.0.jpg</td>\n",
       "      <td>9</td>\n",
       "      <td>970</td>\n",
       "      <td>0</td>\n",
       "      <td>Touching ears</td>\n",
       "      <td>Head-hand</td>\n",
       "    </tr>\n",
       "    <tr>\n",
       "      <th>60512</th>\n",
       "      <td>9/970.2.jpg</td>\n",
       "      <td>9</td>\n",
       "      <td>970</td>\n",
       "      <td>2</td>\n",
       "      <td>Touching ears</td>\n",
       "      <td>Head-hand</td>\n",
       "    </tr>\n",
       "    <tr>\n",
       "      <th>60513</th>\n",
       "      <td>9/970.3.jpg</td>\n",
       "      <td>9</td>\n",
       "      <td>970</td>\n",
       "      <td>3</td>\n",
       "      <td>Touching ears</td>\n",
       "      <td>Head-hand</td>\n",
       "    </tr>\n",
       "  </tbody>\n",
       "</table>\n",
       "<p>60514 rows × 6 columns</p>\n",
       "</div>"
      ],
      "text/plain": [
       "            file_name  label  video  frame       id2label id2category\n",
       "0       1/10116.0.jpg      1  10116      0    Turtle neck        Head\n",
       "1       1/10116.1.jpg      1  10116      1    Turtle neck        Head\n",
       "2      1/10116.10.jpg      1  10116     10    Turtle neck        Head\n",
       "3      1/10116.11.jpg      1  10116     11    Turtle neck        Head\n",
       "4      1/10116.12.jpg      1  10116     12    Turtle neck        Head\n",
       "...               ...    ...    ...    ...            ...         ...\n",
       "60509    9/8751.1.jpg      9   8751      1  Touching ears   Head-hand\n",
       "60510    9/8751.2.jpg      9   8751      2  Touching ears   Head-hand\n",
       "60511     9/970.0.jpg      9    970      0  Touching ears   Head-hand\n",
       "60512     9/970.2.jpg      9    970      2  Touching ears   Head-hand\n",
       "60513     9/970.3.jpg      9    970      3  Touching ears   Head-hand\n",
       "\n",
       "[60514 rows x 6 columns]"
      ]
     },
     "execution_count": 7,
     "metadata": {},
     "output_type": "execute_result"
    }
   ],
   "source": [
    "full_meta"
   ]
  },
  {
   "cell_type": "code",
   "execution_count": 55,
   "id": "4b9e0263-0774-4fc5-bc0e-792cbada610a",
   "metadata": {},
   "outputs": [
    {
     "data": {
      "text/html": [
       "<div>\n",
       "<style scoped>\n",
       "    .dataframe tbody tr th:only-of-type {\n",
       "        vertical-align: middle;\n",
       "    }\n",
       "\n",
       "    .dataframe tbody tr th {\n",
       "        vertical-align: top;\n",
       "    }\n",
       "\n",
       "    .dataframe thead th {\n",
       "        text-align: right;\n",
       "    }\n",
       "</style>\n",
       "<table border=\"1\" class=\"dataframe\">\n",
       "  <thead>\n",
       "    <tr style=\"text-align: right;\">\n",
       "      <th></th>\n",
       "      <th>video</th>\n",
       "      <th>label</th>\n",
       "    </tr>\n",
       "  </thead>\n",
       "  <tbody>\n",
       "    <tr>\n",
       "      <th>2004</th>\n",
       "      <td>3101</td>\n",
       "      <td>24</td>\n",
       "    </tr>\n",
       "    <tr>\n",
       "      <th>6966</th>\n",
       "      <td>10484</td>\n",
       "      <td>32</td>\n",
       "    </tr>\n",
       "    <tr>\n",
       "      <th>2782</th>\n",
       "      <td>4358</td>\n",
       "      <td>32</td>\n",
       "    </tr>\n",
       "    <tr>\n",
       "      <th>12730</th>\n",
       "      <td>17524</td>\n",
       "      <td>32</td>\n",
       "    </tr>\n",
       "    <tr>\n",
       "      <th>3094</th>\n",
       "      <td>4679</td>\n",
       "      <td>22</td>\n",
       "    </tr>\n",
       "    <tr>\n",
       "      <th>...</th>\n",
       "      <td>...</td>\n",
       "      <td>...</td>\n",
       "    </tr>\n",
       "    <tr>\n",
       "      <th>4318</th>\n",
       "      <td>6486</td>\n",
       "      <td>24</td>\n",
       "    </tr>\n",
       "    <tr>\n",
       "      <th>9143</th>\n",
       "      <td>12738</td>\n",
       "      <td>31</td>\n",
       "    </tr>\n",
       "    <tr>\n",
       "      <th>187</th>\n",
       "      <td>336</td>\n",
       "      <td>29</td>\n",
       "    </tr>\n",
       "    <tr>\n",
       "      <th>10093</th>\n",
       "      <td>13719</td>\n",
       "      <td>32</td>\n",
       "    </tr>\n",
       "    <tr>\n",
       "      <th>12116</th>\n",
       "      <td>15870</td>\n",
       "      <td>31</td>\n",
       "    </tr>\n",
       "  </tbody>\n",
       "</table>\n",
       "<p>10328 rows × 2 columns</p>\n",
       "</div>"
      ],
      "text/plain": [
       "       video  label\n",
       "2004    3101     24\n",
       "6966   10484     32\n",
       "2782    4358     32\n",
       "12730  17524     32\n",
       "3094    4679     22\n",
       "...      ...    ...\n",
       "4318    6486     24\n",
       "9143   12738     31\n",
       "187      336     29\n",
       "10093  13719     32\n",
       "12116  15870     31\n",
       "\n",
       "[10328 rows x 2 columns]"
      ]
     },
     "execution_count": 55,
     "metadata": {},
     "output_type": "execute_result"
    }
   ],
   "source": [
    "import pandas as pd\n",
    "from sklearn.model_selection import train_test_split\n",
    "\n",
    "# Stratified train-test split on remaining data\n",
    "video_labels = full_meta.groupby('video').label.first().reset_index()\n",
    "cols = video_labels.columns\n",
    "row_to_duplicate = video_labels[video_labels.label == 19]\n",
    "video_labels = np.array(video_labels).tolist().append(np.array(video_labels[video_labels.label == 19]).tolist())\n",
    "video_labels = pd.DataFrame(videl_labels, columns=cols)\n",
    "train_vids, test_vids = train_test_split(video_labels, \n",
    "                                         test_size=0.2, \n",
    "                                         stratify=video_labels.label,\n",
    "                                         random_state=42)\n",
    "train_vids"
   ]
  },
  {
   "cell_type": "code",
   "execution_count": 9,
   "id": "eb597db8-9c1c-4361-8dd8-9697c1e0a6fd",
   "metadata": {},
   "outputs": [
    {
     "data": {
      "application/vnd.jupyter.widget-view+json": {
       "model_id": "f51d876fb5c748f2b358f4259cd66f38",
       "version_major": 2,
       "version_minor": 0
      },
      "text/plain": [
       "Uploading the dataset shards:   0%|          | 0/3 [00:00<?, ?it/s]"
      ]
     },
     "metadata": {},
     "output_type": "display_data"
    },
    {
     "data": {
      "application/vnd.jupyter.widget-view+json": {
       "model_id": "8ed868abad14465b8e6ef39b918597f9",
       "version_major": 2,
       "version_minor": 0
      },
      "text/plain": [
       "Map:   0%|          | 0/20172 [00:00<?, ? examples/s]"
      ]
     },
     "metadata": {},
     "output_type": "display_data"
    },
    {
     "data": {
      "application/vnd.jupyter.widget-view+json": {
       "model_id": "633d2dbfc50f41c3ad187977641e98ef",
       "version_major": 2,
       "version_minor": 0
      },
      "text/plain": [
       "Creating parquet from Arrow format:   0%|          | 0/202 [00:00<?, ?ba/s]"
      ]
     },
     "metadata": {},
     "output_type": "display_data"
    },
    {
     "data": {
      "application/vnd.jupyter.widget-view+json": {
       "model_id": "797b6b3459804be4af6cb68940bfd3eb",
       "version_major": 2,
       "version_minor": 0
      },
      "text/plain": [
       "Map:   0%|          | 0/20171 [00:00<?, ? examples/s]"
      ]
     },
     "metadata": {},
     "output_type": "display_data"
    },
    {
     "data": {
      "application/vnd.jupyter.widget-view+json": {
       "model_id": "ffe0b2fe5e9b4eae8a069b8e373464d3",
       "version_major": 2,
       "version_minor": 0
      },
      "text/plain": [
       "Creating parquet from Arrow format:   0%|          | 0/202 [00:00<?, ?ba/s]"
      ]
     },
     "metadata": {},
     "output_type": "display_data"
    },
    {
     "data": {
      "application/vnd.jupyter.widget-view+json": {
       "model_id": "fbbd80e4a53f42c080d7144a6d6c0d8b",
       "version_major": 2,
       "version_minor": 0
      },
      "text/plain": [
       "Map:   0%|          | 0/20171 [00:00<?, ? examples/s]"
      ]
     },
     "metadata": {},
     "output_type": "display_data"
    },
    {
     "data": {
      "application/vnd.jupyter.widget-view+json": {
       "model_id": "bc716fa333304c15a034f47542de61b3",
       "version_major": 2,
       "version_minor": 0
      },
      "text/plain": [
       "Creating parquet from Arrow format:   0%|          | 0/202 [00:00<?, ?ba/s]"
      ]
     },
     "metadata": {},
     "output_type": "display_data"
    },
    {
     "data": {
      "application/vnd.jupyter.widget-view+json": {
       "model_id": "fbbd97aea64c4746a0a60f719046f78d",
       "version_major": 2,
       "version_minor": 0
      },
      "text/plain": [
       "README.md:   0%|          | 0.00/1.29k [00:00<?, ?B/s]"
      ]
     },
     "metadata": {},
     "output_type": "display_data"
    },
    {
     "data": {
      "text/plain": [
       "CommitInfo(commit_url='https://huggingface.co/datasets/TornikeO/imigue/commit/c6b2825d938b2d7a33b87d5806e4f29653c520d4', commit_message='Upload dataset', commit_description='', oid='c6b2825d938b2d7a33b87d5806e4f29653c520d4', pr_url=None, pr_revision=None, pr_num=None)"
      ]
     },
     "execution_count": 9,
     "metadata": {},
     "output_type": "execute_result"
    }
   ],
   "source": [
    "data.push_to_hub('TornikeO/imigue')"
   ]
  }
 ],
 "metadata": {
  "kernelspec": {
   "display_name": "Python 3 (ipykernel)",
   "language": "python",
   "name": "python3"
  },
  "language_info": {
   "codemirror_mode": {
    "name": "ipython",
    "version": 3
   },
   "file_extension": ".py",
   "mimetype": "text/x-python",
   "name": "python",
   "nbconvert_exporter": "python",
   "pygments_lexer": "ipython3",
   "version": "3.10.13"
  }
 },
 "nbformat": 4,
 "nbformat_minor": 5
}
